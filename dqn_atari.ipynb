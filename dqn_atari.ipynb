{
  "nbformat": 4,
  "nbformat_minor": 0,
  "metadata": {
    "colab": {
      "name": "AtariV1.ipynb",
      "provenance": []
    },
    "kernelspec": {
      "name": "python3",
      "display_name": "Python 3"
    },
    "language_info": {
      "name": "python"
    },
    "accelerator": "GPU"
  },
  "cells": [
    {
      "cell_type": "code",
      "metadata": {
        "colab": {
          "base_uri": "https://localhost:8080/",
          "height": 306
        },
        "id": "ijxLc6Df0gWB",
        "outputId": "5031749d-8f6a-4f6a-c015-c230c6a78403"
      },
      "source": [
        "!pip install wandb -qq\n",
        "import wandb\n",
        "\n",
        "wandb.init(project='ml', entity='b1boid')\n",
        "\n",
        "config = wandb.config\n",
        "config.learning_rate = 0.01"
      ],
      "execution_count": 1,
      "outputs": [
        {
          "output_type": "stream",
          "text": [
            "\u001b[K     |████████████████████████████████| 2.1MB 7.6MB/s \n",
            "\u001b[K     |████████████████████████████████| 102kB 11.5MB/s \n",
            "\u001b[K     |████████████████████████████████| 163kB 34.6MB/s \n",
            "\u001b[K     |████████████████████████████████| 133kB 32.4MB/s \n",
            "\u001b[K     |████████████████████████████████| 71kB 10.8MB/s \n",
            "\u001b[?25h  Building wheel for subprocess32 (setup.py) ... \u001b[?25l\u001b[?25hdone\n",
            "  Building wheel for pathtools (setup.py) ... \u001b[?25l\u001b[?25hdone\n"
          ],
          "name": "stdout"
        },
        {
          "output_type": "display_data",
          "data": {
            "application/javascript": [
              "\n",
              "        window._wandbApiKey = new Promise((resolve, reject) => {\n",
              "            function loadScript(url) {\n",
              "            return new Promise(function(resolve, reject) {\n",
              "                let newScript = document.createElement(\"script\");\n",
              "                newScript.onerror = reject;\n",
              "                newScript.onload = resolve;\n",
              "                document.body.appendChild(newScript);\n",
              "                newScript.src = url;\n",
              "            });\n",
              "            }\n",
              "            loadScript(\"https://cdn.jsdelivr.net/npm/postmate/build/postmate.min.js\").then(() => {\n",
              "            const iframe = document.createElement('iframe')\n",
              "            iframe.style.cssText = \"width:0;height:0;border:none\"\n",
              "            document.body.appendChild(iframe)\n",
              "            const handshake = new Postmate({\n",
              "                container: iframe,\n",
              "                url: 'https://wandb.ai/authorize'\n",
              "            });\n",
              "            const timeout = setTimeout(() => reject(\"Couldn't auto authenticate\"), 5000)\n",
              "            handshake.then(function(child) {\n",
              "                child.on('authorize', data => {\n",
              "                    clearTimeout(timeout)\n",
              "                    resolve(data)\n",
              "                });\n",
              "            });\n",
              "            })\n",
              "        });\n",
              "    "
            ],
            "text/plain": [
              "<IPython.core.display.Javascript object>"
            ]
          },
          "metadata": {
            "tags": []
          }
        },
        {
          "output_type": "stream",
          "text": [
            "\u001b[34m\u001b[1mwandb\u001b[0m: You can find your API key in your browser here: https://wandb.ai/authorize\n"
          ],
          "name": "stderr"
        },
        {
          "output_type": "stream",
          "text": [
            "wandb: Paste an API key from your profile and hit enter: ··········\n"
          ],
          "name": "stdout"
        },
        {
          "output_type": "stream",
          "text": [
            "\u001b[34m\u001b[1mwandb\u001b[0m: Appending key for api.wandb.ai to your netrc file: /root/.netrc\n"
          ],
          "name": "stderr"
        },
        {
          "output_type": "display_data",
          "data": {
            "text/html": [
              "\n",
              "                Tracking run with wandb version 0.10.29<br/>\n",
              "                Syncing run <strong style=\"color:#cdcd00\">chocolate-moon-33</strong> to <a href=\"https://wandb.ai\" target=\"_blank\">Weights & Biases</a> <a href=\"https://docs.wandb.com/integrations/jupyter.html\" target=\"_blank\">(Documentation)</a>.<br/>\n",
              "                Project page: <a href=\"https://wandb.ai/b1boid/ml\" target=\"_blank\">https://wandb.ai/b1boid/ml</a><br/>\n",
              "                Run page: <a href=\"https://wandb.ai/b1boid/ml/runs/1oftp2nd\" target=\"_blank\">https://wandb.ai/b1boid/ml/runs/1oftp2nd</a><br/>\n",
              "                Run data is saved locally in <code>/content/wandb/run-20210507_073112-1oftp2nd</code><br/><br/>\n",
              "            "
            ],
            "text/plain": [
              "<IPython.core.display.HTML object>"
            ]
          },
          "metadata": {
            "tags": []
          }
        }
      ]
    },
    {
      "cell_type": "code",
      "metadata": {
        "id": "bGUFwwxvONj3"
      },
      "source": [
        "import numpy as np\n",
        "import gym\n",
        "import torch\n",
        "import torchvision\n",
        "import torch.nn as nn\n",
        "from tqdm import tqdm\n",
        "from torch.nn.functional import smooth_l1_loss, leaky_relu\n",
        "from collections import deque\n",
        "from skimage.color import rgb2grey\n",
        "from skimage.transform import rescale\n",
        "import random\n",
        "import time"
      ],
      "execution_count": 2,
      "outputs": []
    },
    {
      "cell_type": "code",
      "metadata": {
        "id": "Yii8MmA60Rkq"
      },
      "source": [
        "class DeepQNetwork(nn.Module):\n",
        "    def __init__(self, num_frames, num_actions):\n",
        "        super(DeepQNetwork, self).__init__()\n",
        "        self.num_frames = num_frames\n",
        "        self.num_actions = num_actions\n",
        "\n",
        "        self.conv1 = nn.Conv2d(\n",
        "            in_channels=num_frames,\n",
        "            out_channels=16,\n",
        "            kernel_size=8,\n",
        "            stride=4,\n",
        "            padding=2\n",
        "            )\n",
        "        self.conv2 = nn.Conv2d(\n",
        "            in_channels=16,\n",
        "            out_channels=32,\n",
        "            kernel_size=4,\n",
        "            stride=2,\n",
        "            padding=1\n",
        "            )\n",
        "        self.fc1 = nn.Linear(\n",
        "            in_features=3200,\n",
        "            out_features=256,\n",
        "            )\n",
        "        self.fc2 = nn.Linear(\n",
        "            in_features=256,\n",
        "            out_features=num_actions,\n",
        "            )\n",
        "\n",
        "    def flatten(self, x):\n",
        "        return x.view(x.size()[0], -1)\n",
        "\n",
        "    def forward(self, x, k_relu=0.02):\n",
        "        x = leaky_relu(self.conv1(x), k_relu)\n",
        "        x = leaky_relu(self.conv2(x), k_relu)\n",
        "        x = self.flatten(x)                  \n",
        "        x = leaky_relu(self.fc1(x), k_relu)\n",
        "        x = self.fc2(x)\n",
        "\n",
        "        return x"
      ],
      "execution_count": 3,
      "outputs": []
    },
    {
      "cell_type": "code",
      "metadata": {
        "id": "j4u1J4tP0ngt"
      },
      "source": [
        "class DeepQLearningAtari:\n",
        "    def __init__(self, env, lr=0.0001):\n",
        "        self.env = env\n",
        "        self.device = torch.device(\"cuda\" if torch.cuda.is_available() else \"cpu\")\n",
        "        self.action_num = env.action_space.n\n",
        "        self.state_num = env.observation_space.shape[0]\n",
        "        self.num_frames = 4\n",
        "        self.last_info = {'ale.lives': 5}\n",
        "        self.model = DeepQNetwork(self.num_frames, self.action_num).to(self.device)\n",
        "        self.optimizer = torch.optim.Adam(self.model.parameters(), lr=lr)\n",
        "\n",
        "    def save(self, model_path):\n",
        "        torch.save(self.model.state_dict(), model_path)  \n",
        "\n",
        "    def load(self, model_path):\n",
        "        self.model.load_state_dict(torch.load(model_path))   \n",
        "\n",
        "    def process_image(self, state):\n",
        "        state = rgb2grey(state[35:195, :, :])\n",
        "        state = rescale(state, scale=0.5)[np.newaxis, np.newaxis, :, :] \n",
        "        return torch.tensor(state).float().to(self.device)    \n",
        "\n",
        "    def play(self, train=True, gamma=0.99, eps=0.9, batch_size=32, memory_size=50000, games=3000, model_path=\"model2\"):\n",
        "        def choose_action():\n",
        "            random_action = random.randint(0, self.action_num - 1)\n",
        "            if not train and info != self.last_info: return 1\n",
        "            return random_action if random.random() < eps else output.argmax().item()\n",
        "\n",
        "        if not train:\n",
        "          self.load(model_path) \n",
        "\n",
        "        memory = deque(maxlen=memory_size)\n",
        "        state = self.process_image(self.env.reset())\n",
        "\n",
        "        for game in tqdm(range(games), position=0, leave=True):\n",
        "            total_reward = 0\n",
        "            done = False\n",
        "            info = self.last_info\n",
        "            while not done:\n",
        "                if not train:\n",
        "                  self.env.render()\n",
        "                  time.sleep(0.1)   \n",
        "                while state.size()[1] < self.num_frames:\n",
        "                    action = 1\n",
        "                    new_frame, reward, done, _ = self.env.step(action)\n",
        "                    new_frame = self.process_image(new_frame)\n",
        "                    state = torch.cat([state, new_frame], 1)\n",
        "                output = self.model(torch.tensor(state).float())\n",
        "\n",
        "                action = choose_action()\n",
        "\n",
        "                self.last_info = info\n",
        "                next_frame, reward, done, info = self.env.step(action)\n",
        "                next_frame = self.process_image(next_frame)\n",
        "                next_state = torch.cat([state, next_frame], 1)[:, 1:, :, :]\n",
        "\n",
        "                memory.append((state,next_state,reward, done, action))\n",
        "\n",
        "                total_reward += reward\n",
        "                if done and train:\n",
        "                    wandb.log({\"total_reward\": total_reward})\n",
        "                    state = self.process_image(self.env.reset())\n",
        "                else:\n",
        "                    state = next_state\n",
        "                \n",
        "      \n",
        "                if train and len(memory) > batch_size:\n",
        "                    batch = list(zip(*random.sample(list(memory), batch_size)))\n",
        "                    state_batch = torch.cat(batch[0], 0).to(self.device)\n",
        "                    next_state_batch = torch.cat(batch[1], 0).to(self.device)\n",
        "                    reward_batch = torch.tensor(batch[2]).to(self.device)\n",
        "                    done_batch = torch.tensor(batch[3]).to(self.device)\n",
        "                    action_batch = torch.tensor(batch[4]).to(self.device)\n",
        "\n",
        "                    with torch.no_grad():\n",
        "                        target_q, _ = self.model(next_state_batch).max(dim=1)\n",
        "                        target_q[done_batch] = 0\n",
        "\n",
        "                    target_q = reward_batch + gamma * target_q\n",
        "\n",
        "                    q = self.model(state_batch).gather(dim=1, index=action_batch.unsqueeze(dim=1)).squeeze()\n",
        "\n",
        "                    self.optimizer.zero_grad()\n",
        "                    smooth_l1_loss(q, target_q).backward()\n",
        "\n",
        "                    self.optimizer.step()\n",
        "\n",
        "            eps = max(0.05, eps - eps * (game / games))\n",
        "\n",
        "        if train:    \n",
        "          self.save(model_path)  "
      ],
      "execution_count": 10,
      "outputs": []
    },
    {
      "cell_type": "code",
      "metadata": {
        "colab": {
          "base_uri": "https://localhost:8080/"
        },
        "id": "5TJ-WwCno0Nk",
        "outputId": "93fc36f8-4b56-4921-c802-02eebc53341a"
      },
      "source": [
        "env = gym.make('BreakoutDeterministic-v4')\n",
        "dq = DeepQLearningAtari(env)\n",
        "dq.play()\n",
        "env.close()"
      ],
      "execution_count": 6,
      "outputs": [
        {
          "output_type": "stream",
          "text": [
            "  0%|          | 0/3000 [00:00<?, ?it/s]/usr/local/lib/python3.7/dist-packages/ipykernel_launcher.py:48: UserWarning: To copy construct from a tensor, it is recommended to use sourceTensor.clone().detach() or sourceTensor.clone().detach().requires_grad_(True), rather than torch.tensor(sourceTensor).\n",
            "100%|██████████| 3000/3000 [2:28:32<00:00,  2.97s/it]\n"
          ],
          "name": "stderr"
        }
      ]
    },
    {
      "cell_type": "code",
      "metadata": {
        "id": "Gu5nDjO5Qllb",
        "colab": {
          "base_uri": "https://localhost:8080/",
          "height": 259
        },
        "outputId": "c964dda1-9851-49bf-d0e2-56db9e9f9413"
      },
      "source": [
        "!pip install gym pyvirtualdisplay > /dev/null 2>&1\n",
        "!apt-get install -y xvfb python-opengl ffmpeg > /dev/null 2>&1\n",
        "!apt-get update > /dev/null 2>&1\n",
        "!apt-get install cmake > /dev/null 2>&1\n",
        "!pip install --upgrade setuptools 2>&1\n",
        "!pip install ez_setup > /dev/null 2>&1\n",
        "!pip install gym[atari] > /dev/null 2>&1\n",
        "from gym import logger as gymlogger\n",
        "from gym.wrappers import Monitor\n",
        "gymlogger.set_level(40) #error only\n",
        "import tensorflow as tf\n",
        "import random\n",
        "import matplotlib\n",
        "import matplotlib.pyplot as plt\n",
        "%matplotlib inline\n",
        "import math\n",
        "import glob\n",
        "import io\n",
        "import base64\n",
        "from IPython.display import HTML\n",
        "\n",
        "from IPython import display as ipythondisplay\n",
        "\n",
        "from pyvirtualdisplay import Display\n",
        "\n",
        "def show_video():\n",
        "  mp4list = glob.glob('video/*.mp4')\n",
        "  if len(mp4list) > 0:\n",
        "    mp4 = mp4list[0]\n",
        "    video = io.open(mp4, 'r+b').read()\n",
        "    encoded = base64.b64encode(video)\n",
        "    ipythondisplay.display(HTML(data='''<video alt=\"test\" autoplay \n",
        "                loop controls style=\"height: 400px;\">\n",
        "                <source src=\"data:video/mp4;base64,{0}\" type=\"video/mp4\" />\n",
        "             </video>'''.format(encoded.decode('ascii'))))\n",
        "  else: \n",
        "    print(\"Could not find video\")\n",
        "    \n",
        "\n",
        "def wrap_env(env):\n",
        "  env = Monitor(env, './video', force=True)\n",
        "  return env"
      ],
      "execution_count": 7,
      "outputs": [
        {
          "output_type": "stream",
          "text": [
            "Collecting setuptools\n",
            "\u001b[?25l  Downloading https://files.pythonhosted.org/packages/11/1b/7012b145cb228aed20f9b2b8b259df49e7963d900799ea44791f54d06ab9/setuptools-56.1.0-py3-none-any.whl (785kB)\n",
            "\r\u001b[K     |▍                               | 10kB 21.0MB/s eta 0:00:01\r\u001b[K     |▉                               | 20kB 17.3MB/s eta 0:00:01\r\u001b[K     |█▎                              | 30kB 14.4MB/s eta 0:00:01\r\u001b[K     |█▊                              | 40kB 13.1MB/s eta 0:00:01\r\u001b[K     |██                              | 51kB 9.2MB/s eta 0:00:01\r\u001b[K     |██▌                             | 61kB 9.6MB/s eta 0:00:01\r\u001b[K     |███                             | 71kB 10.0MB/s eta 0:00:01\r\u001b[K     |███▍                            | 81kB 11.2MB/s eta 0:00:01\r\u001b[K     |███▊                            | 92kB 10.3MB/s eta 0:00:01\r\u001b[K     |████▏                           | 102kB 9.0MB/s eta 0:00:01\r\u001b[K     |████▋                           | 112kB 9.0MB/s eta 0:00:01\r\u001b[K     |█████                           | 122kB 9.0MB/s eta 0:00:01\r\u001b[K     |█████▍                          | 133kB 9.0MB/s eta 0:00:01\r\u001b[K     |█████▉                          | 143kB 9.0MB/s eta 0:00:01\r\u001b[K     |██████▎                         | 153kB 9.0MB/s eta 0:00:01\r\u001b[K     |██████▊                         | 163kB 9.0MB/s eta 0:00:01\r\u001b[K     |███████                         | 174kB 9.0MB/s eta 0:00:01\r\u001b[K     |███████▌                        | 184kB 9.0MB/s eta 0:00:01\r\u001b[K     |████████                        | 194kB 9.0MB/s eta 0:00:01\r\u001b[K     |████████▍                       | 204kB 9.0MB/s eta 0:00:01\r\u001b[K     |████████▊                       | 215kB 9.0MB/s eta 0:00:01\r\u001b[K     |█████████▏                      | 225kB 9.0MB/s eta 0:00:01\r\u001b[K     |█████████▋                      | 235kB 9.0MB/s eta 0:00:01\r\u001b[K     |██████████                      | 245kB 9.0MB/s eta 0:00:01\r\u001b[K     |██████████▍                     | 256kB 9.0MB/s eta 0:00:01\r\u001b[K     |██████████▉                     | 266kB 9.0MB/s eta 0:00:01\r\u001b[K     |███████████▎                    | 276kB 9.0MB/s eta 0:00:01\r\u001b[K     |███████████▊                    | 286kB 9.0MB/s eta 0:00:01\r\u001b[K     |████████████                    | 296kB 9.0MB/s eta 0:00:01\r\u001b[K     |████████████▌                   | 307kB 9.0MB/s eta 0:00:01\r\u001b[K     |█████████████                   | 317kB 9.0MB/s eta 0:00:01\r\u001b[K     |█████████████▍                  | 327kB 9.0MB/s eta 0:00:01\r\u001b[K     |█████████████▊                  | 337kB 9.0MB/s eta 0:00:01\r\u001b[K     |██████████████▏                 | 348kB 9.0MB/s eta 0:00:01\r\u001b[K     |██████████████▋                 | 358kB 9.0MB/s eta 0:00:01\r\u001b[K     |███████████████                 | 368kB 9.0MB/s eta 0:00:01\r\u001b[K     |███████████████▍                | 378kB 9.0MB/s eta 0:00:01\r\u001b[K     |███████████████▉                | 389kB 9.0MB/s eta 0:00:01\r\u001b[K     |████████████████▎               | 399kB 9.0MB/s eta 0:00:01\r\u001b[K     |████████████████▊               | 409kB 9.0MB/s eta 0:00:01\r\u001b[K     |█████████████████               | 419kB 9.0MB/s eta 0:00:01\r\u001b[K     |█████████████████▌              | 430kB 9.0MB/s eta 0:00:01\r\u001b[K     |██████████████████              | 440kB 9.0MB/s eta 0:00:01\r\u001b[K     |██████████████████▍             | 450kB 9.0MB/s eta 0:00:01\r\u001b[K     |██████████████████▊             | 460kB 9.0MB/s eta 0:00:01\r\u001b[K     |███████████████████▏            | 471kB 9.0MB/s eta 0:00:01\r\u001b[K     |███████████████████▋            | 481kB 9.0MB/s eta 0:00:01\r\u001b[K     |████████████████████            | 491kB 9.0MB/s eta 0:00:01\r\u001b[K     |████████████████████▍           | 501kB 9.0MB/s eta 0:00:01\r\u001b[K     |████████████████████▉           | 512kB 9.0MB/s eta 0:00:01\r\u001b[K     |█████████████████████▎          | 522kB 9.0MB/s eta 0:00:01\r\u001b[K     |█████████████████████▊          | 532kB 9.0MB/s eta 0:00:01\r\u001b[K     |██████████████████████▏         | 542kB 9.0MB/s eta 0:00:01\r\u001b[K     |██████████████████████▌         | 552kB 9.0MB/s eta 0:00:01\r\u001b[K     |███████████████████████         | 563kB 9.0MB/s eta 0:00:01\r\u001b[K     |███████████████████████▍        | 573kB 9.0MB/s eta 0:00:01\r\u001b[K     |███████████████████████▉        | 583kB 9.0MB/s eta 0:00:01\r\u001b[K     |████████████████████████▏       | 593kB 9.0MB/s eta 0:00:01\r\u001b[K     |████████████████████████▋       | 604kB 9.0MB/s eta 0:00:01\r\u001b[K     |█████████████████████████       | 614kB 9.0MB/s eta 0:00:01\r\u001b[K     |█████████████████████████▌      | 624kB 9.0MB/s eta 0:00:01\r\u001b[K     |█████████████████████████▉      | 634kB 9.0MB/s eta 0:00:01\r\u001b[K     |██████████████████████████▎     | 645kB 9.0MB/s eta 0:00:01\r\u001b[K     |██████████████████████████▊     | 655kB 9.0MB/s eta 0:00:01\r\u001b[K     |███████████████████████████▏    | 665kB 9.0MB/s eta 0:00:01\r\u001b[K     |███████████████████████████▌    | 675kB 9.0MB/s eta 0:00:01\r\u001b[K     |████████████████████████████    | 686kB 9.0MB/s eta 0:00:01\r\u001b[K     |████████████████████████████▍   | 696kB 9.0MB/s eta 0:00:01\r\u001b[K     |████████████████████████████▉   | 706kB 9.0MB/s eta 0:00:01\r\u001b[K     |█████████████████████████████▏  | 716kB 9.0MB/s eta 0:00:01\r\u001b[K     |█████████████████████████████▋  | 727kB 9.0MB/s eta 0:00:01\r\u001b[K     |██████████████████████████████  | 737kB 9.0MB/s eta 0:00:01\r\u001b[K     |██████████████████████████████▌ | 747kB 9.0MB/s eta 0:00:01\r\u001b[K     |██████████████████████████████▉ | 757kB 9.0MB/s eta 0:00:01\r\u001b[K     |███████████████████████████████▎| 768kB 9.0MB/s eta 0:00:01\r\u001b[K     |███████████████████████████████▊| 778kB 9.0MB/s eta 0:00:01\r\u001b[K     |████████████████████████████████| 788kB 9.0MB/s \n",
            "\u001b[31mERROR: datascience 0.10.6 has requirement folium==0.2.1, but you'll have folium 0.8.3 which is incompatible.\u001b[0m\n",
            "\u001b[?25hInstalling collected packages: setuptools\n",
            "  Found existing installation: setuptools 56.0.0\n",
            "    Uninstalling setuptools-56.0.0:\n",
            "      Successfully uninstalled setuptools-56.0.0\n",
            "Successfully installed setuptools-56.1.0\n"
          ],
          "name": "stdout"
        },
        {
          "output_type": "display_data",
          "data": {
            "application/vnd.colab-display-data+json": {
              "pip_warning": {
                "packages": [
                  "pkg_resources"
                ]
              }
            }
          },
          "metadata": {
            "tags": []
          }
        }
      ]
    },
    {
      "cell_type": "code",
      "metadata": {
        "colab": {
          "base_uri": "https://localhost:8080/",
          "height": 475
        },
        "id": "89tLVHIl2pJ9",
        "outputId": "00879b06-e59b-4449-a695-44d5bc564398"
      },
      "source": [
        "display = Display(visible=0, size=(1400, 900))\n",
        "display.start()\n",
        "env = wrap_env(gym.make('BreakoutDeterministic-v4'))\n",
        "dq = DeepQLearningAtari(env)\n",
        "dq.play(train=False, games=1, eps=0)\n",
        "env.close()\n",
        "show_video()"
      ],
      "execution_count": 11,
      "outputs": [
        {
          "output_type": "stream",
          "text": [
            "  0%|          | 0/1 [00:00<?, ?it/s]/usr/local/lib/python3.7/dist-packages/ipykernel_launcher.py:48: UserWarning: To copy construct from a tensor, it is recommended to use sourceTensor.clone().detach() or sourceTensor.clone().detach().requires_grad_(True), rather than torch.tensor(sourceTensor).\n",
            "100%|██████████| 1/1 [01:03<00:00, 63.73s/it]\n"
          ],
          "name": "stderr"
        },
        {
          "output_type": "display_data",
          "data": {
            "text/html": [
              "<video alt=\"test\" autoplay \n",
              "                loop controls style=\"height: 400px;\">\n",
              "                <source src=\"data:video/mp4;base64,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\" type=\"video/mp4\" />\n",
              "             </video>"
            ],
            "text/plain": [
              "<IPython.core.display.HTML object>"
            ]
          },
          "metadata": {
            "tags": []
          }
        }
      ]
    },
    {
      "cell_type": "code",
      "metadata": {
        "id": "9vCUY6cN5jcT"
      },
      "source": [
        ""
      ],
      "execution_count": 6,
      "outputs": []
    }
  ]
}
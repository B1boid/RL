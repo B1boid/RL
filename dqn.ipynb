{
 "cells": [
  {
   "cell_type": "code",
   "execution_count": 63,
   "metadata": {
    "collapsed": true
   },
   "outputs": [],
   "source": [
    "import numpy as np\n",
    "import random\n",
    "import gym\n",
    "import torch\n",
    "from torch.nn import Sequential, Linear, ReLU\n",
    "from torch.nn.functional import mse_loss\n",
    "from collections import deque\n",
    "from torch import optim\n",
    "from tqdm import tqdm"
   ]
  },
  {
   "cell_type": "code",
   "execution_count": 64,
   "outputs": [],
   "source": [
    "enviroment = gym.make(\"MountainCar-v0\")"
   ],
   "metadata": {
    "collapsed": false,
    "pycharm": {
     "name": "#%%\n"
    }
   }
  },
  {
   "cell_type": "code",
   "execution_count": 65,
   "outputs": [],
   "source": [
    "class DeepQLearning:\n",
    "    def __init__(self, env, hidden_dim=32, lr=0.005, games=200):\n",
    "        self.env = env\n",
    "        self.games = games\n",
    "        self.action_num = env.action_space.n\n",
    "        self.state_num = env.observation_space.shape[0]\n",
    "        self.model = Sequential(\n",
    "                         Linear(self.state_num, hidden_dim),\n",
    "                         ReLU(),\n",
    "                         Linear(hidden_dim, hidden_dim),\n",
    "                         ReLU(),\n",
    "                         Linear(hidden_dim, self.action_num)\n",
    "        )\n",
    "        self.optimizer = optim.Adam(self.model.parameters(), lr=lr)\n",
    "\n",
    "    def train(self, gamma=0.99, eps=0.5, batch_size=128, memory_size=10000, k_r=1000):\n",
    "        def choose_action():\n",
    "            random_action = random.randint(0, self.action_num - 1)\n",
    "            return random_action if random.random() < eps else output.argmax().item()\n",
    "\n",
    "        memory = deque(maxlen=memory_size)\n",
    "        state = self.env.reset()\n",
    "        games_rewards = []\n",
    "\n",
    "        for game in tqdm(range(self.games)):\n",
    "            total_reward = 0\n",
    "            done = False\n",
    "\n",
    "            while not done:\n",
    "                #self.env.render()\n",
    "                output = self.model(torch.tensor(state).float())\n",
    "\n",
    "                action = choose_action()\n",
    "\n",
    "                next_state, reward, done, _ = self.env.step(action)\n",
    "                modified_reward = reward + k_r * (gamma * abs(next_state[1]) - abs(state[1]))\n",
    "\n",
    "                memory.append((state,next_state,modified_reward, done, action))\n",
    "                total_reward += reward\n",
    "                if done:\n",
    "                    games_rewards.append(total_reward)\n",
    "                    state = self.env.reset()\n",
    "                else:\n",
    "                    state = next_state\n",
    "\n",
    "\n",
    "                if len(memory) > batch_size:\n",
    "                    batch = list(zip(*random.sample(list(memory), batch_size)))\n",
    "                    state_batch = torch.tensor(batch[0]).float()\n",
    "                    next_state_batch = torch.tensor(batch[1]).float()\n",
    "                    reward_batch = torch.tensor(batch[2]).float()\n",
    "                    done_batch = torch.tensor(batch[3])\n",
    "                    action_batch = torch.tensor(batch[4])\n",
    "\n",
    "                    with torch.no_grad():\n",
    "                        target_q, _ = self.model(next_state_batch).max(dim=1)\n",
    "                        target_q[done_batch] = 0\n",
    "\n",
    "                    target_q = reward_batch + gamma * target_q\n",
    "\n",
    "                    q = self.model(state_batch).gather(dim=1, index=action_batch.unsqueeze(dim=1)).squeeze()\n",
    "\n",
    "                    self.optimizer.zero_grad()\n",
    "                    mse_loss(q, target_q).backward()\n",
    "\n",
    "                    self.optimizer.step()\n",
    "\n",
    "            eps = max(0.05, eps - eps * (game / self.games))\n",
    "\n",
    "        return games_rewards"
   ],
   "metadata": {
    "collapsed": false,
    "pycharm": {
     "name": "#%%\n"
    }
   }
  },
  {
   "cell_type": "code",
   "execution_count": 66,
   "outputs": [
    {
     "name": "stderr",
     "output_type": "stream",
     "text": [
      "100%|██████████| 200/200 [01:08<00:00,  2.91it/s]\n",
      "100%|██████████| 200/200 [01:02<00:00,  3.22it/s]\n",
      "100%|██████████| 200/200 [01:05<00:00,  3.04it/s]\n",
      "100%|██████████| 200/200 [01:14<00:00,  2.68it/s]\n",
      "100%|██████████| 200/200 [01:04<00:00,  3.10it/s]\n",
      "100%|██████████| 200/200 [01:03<00:00,  3.13it/s]\n",
      "100%|██████████| 200/200 [01:11<00:00,  2.79it/s]\n",
      "100%|██████████| 200/200 [01:08<00:00,  2.92it/s]\n",
      "100%|██████████| 200/200 [01:08<00:00,  2.93it/s]\n"
     ]
    }
   ],
   "source": [
    "N_AGENTS = 9\n",
    "all_games = []\n",
    "\n",
    "for _ in range(N_AGENTS):\n",
    "    dq = DeepQLearning(enviroment)\n",
    "    games_rewards = dq.train()\n",
    "    all_games.append(games_rewards)\n",
    "\n",
    "mean_games_rewards = np.array(all_games).mean(axis=0)"
   ],
   "metadata": {
    "collapsed": false,
    "pycharm": {
     "name": "#%%\n"
    }
   }
  },
  {
   "cell_type": "code",
   "execution_count": 62,
   "outputs": [
    {
     "name": "stderr",
     "output_type": "stream",
     "text": [
      "No handles with labels found to put in legend.\n"
     ]
    },
    {
     "data": {
      "text/plain": "<Figure size 432x288 with 1 Axes>",
      "image/png": "[encoded data removed]"
     },
     "metadata": {
      "needs_background": "light"
     },
     "output_type": "display_data"
    }
   ],
   "source": [
    "from matplotlib import pyplot as plt\n",
    "\n",
    "\n",
    "fig, ax = plt.subplots()\n",
    "plt.plot(range(len(mean_games_rewards)), mean_games_rewards)\n",
    "ax.set_xlabel(\"Games\")\n",
    "ax.set_ylabel(\"Rewards\")\n",
    "plt.legend()\n",
    "enviroment.close()\n"
   ],
   "metadata": {
    "collapsed": false,
    "pycharm": {
     "name": "#%%\n"
    }
   }
  },
  {
   "cell_type": "code",
   "execution_count": 62,
   "outputs": [],
   "source": [],
   "metadata": {
    "collapsed": false,
    "pycharm": {
     "name": "#%%\n"
    }
   }
  }
 ],
 "metadata": {
  "kernelspec": {
   "name": "pycharm-3c9ab49",
   "language": "python",
   "display_name": "PyCharm (RL)"
  },
  "language_info": {
   "codemirror_mode": {
    "name": "ipython",
    "version": 2
   },
   "file_extension": ".py",
   "mimetype": "text/x-python",
   "name": "python",
   "nbconvert_exporter": "python",
   "pygments_lexer": "ipython2",
   "version": "2.7.6"
  }
 },
 "nbformat": 4,
 "nbformat_minor": 0
}